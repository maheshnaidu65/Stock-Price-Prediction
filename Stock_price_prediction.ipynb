{
  "nbformat": 4,
  "nbformat_minor": 0,
  "metadata": {
    "colab": {
      "name": "Stock_Pred.ipynb",
      "version": "0.3.2",
      "provenance": [],
      "collapsed_sections": [],
      "toc_visible": true
    },
    "kernelspec": {
      "name": "python3",
      "display_name": "Python 3"
    }
  },
  "cells": [
    {
      "cell_type": "markdown",
      "metadata": {
        "id": "qumahrYreWfA",
        "colab_type": "text"
      },
      "source": [
        "## Stock Prices prediction using Recurrent Neural Networks"
      ]
    },
    {
      "cell_type": "markdown",
      "metadata": {
        "id": "4HCJh43eehYK",
        "colab_type": "text"
      },
      "source": [
        "Takes stock price values of 60 days as input to predict its value on the 61st day.\n",
        "\n",
        "A vector containing 60 stock price values is given as input to a LSTM network. Optimized and checked that 60 sequential values best predicted the output. \n",
        "\n",
        "Predicted future opening and closing prices with 11% rms error. (beolw program performs prediction for closing price )\n",
        "\n",
        "Plotted and observed that the predicted stock prices closely follow th actual proces.\n",
        "\n",
        "\n",
        "\n",
        "\n"
      ]
    },
    {
      "cell_type": "code",
      "metadata": {
        "id": "nV1SAoL09R7I",
        "colab_type": "code",
        "colab": {}
      },
      "source": [
        "#import packages\n",
        "import pandas as pd\n",
        "import numpy as np\n",
        "from sklearn.preprocessing import MinMaxScaler\n",
        "from sklearn.preprocessing import MinMaxScaler\n",
        "from keras.models import Sequential\n",
        "from keras.layers import Dense, Dropout, LSTM\n",
        "\n",
        "\n",
        "#to plot within notebook\n",
        "import matplotlib.pyplot as plt\n",
        "%matplotlib inline\n",
        "\n",
        "#setting figure size\n",
        "from matplotlib.pylab import rcParams\n",
        "rcParams['figure.figsize'] = 20,10\n",
        "\n",
        "#for normalizing data\n",
        "from sklearn.preprocessing import MinMaxScaler\n",
        "scaler = MinMaxScaler(feature_range=(0, 1))\n",
        "\n",
        "#read the file\n",
        "df = pd.read_csv('Stocks.csv')\n",
        "\n",
        "#print the head\n"
      ],
      "execution_count": 0,
      "outputs": []
    },
    {
      "cell_type": "code",
      "metadata": {
        "id": "eKvVv3UGfEJt",
        "colab_type": "code",
        "outputId": "405893db-35a9-4a38-f3c7-c71d44e1569e",
        "colab": {
          "base_uri": "https://localhost:8080/",
          "height": 202
        }
      },
      "source": [
        "df.head()"
      ],
      "execution_count": 0,
      "outputs": [
        {
          "output_type": "execute_result",
          "data": {
            "text/html": [
              "<div>\n",
              "<style scoped>\n",
              "    .dataframe tbody tr th:only-of-type {\n",
              "        vertical-align: middle;\n",
              "    }\n",
              "\n",
              "    .dataframe tbody tr th {\n",
              "        vertical-align: top;\n",
              "    }\n",
              "\n",
              "    .dataframe thead th {\n",
              "        text-align: right;\n",
              "    }\n",
              "</style>\n",
              "<table border=\"1\" class=\"dataframe\">\n",
              "  <thead>\n",
              "    <tr style=\"text-align: right;\">\n",
              "      <th></th>\n",
              "      <th>Date</th>\n",
              "      <th>Open</th>\n",
              "      <th>High</th>\n",
              "      <th>Low</th>\n",
              "      <th>Last</th>\n",
              "      <th>Close</th>\n",
              "      <th>Total Trade Quantity</th>\n",
              "      <th>Turnover (Lacs)</th>\n",
              "    </tr>\n",
              "  </thead>\n",
              "  <tbody>\n",
              "    <tr>\n",
              "      <th>0</th>\n",
              "      <td>9/28/2018</td>\n",
              "      <td>707.0</td>\n",
              "      <td>707.95</td>\n",
              "      <td>681.0</td>\n",
              "      <td>682.65</td>\n",
              "      <td>683.10</td>\n",
              "      <td>131700</td>\n",
              "      <td>910.52</td>\n",
              "    </tr>\n",
              "    <tr>\n",
              "      <th>1</th>\n",
              "      <td>9/27/2018</td>\n",
              "      <td>716.8</td>\n",
              "      <td>723.50</td>\n",
              "      <td>691.1</td>\n",
              "      <td>697.80</td>\n",
              "      <td>697.15</td>\n",
              "      <td>156222</td>\n",
              "      <td>1104.25</td>\n",
              "    </tr>\n",
              "    <tr>\n",
              "      <th>2</th>\n",
              "      <td>9/26/2018</td>\n",
              "      <td>720.0</td>\n",
              "      <td>724.40</td>\n",
              "      <td>709.0</td>\n",
              "      <td>710.00</td>\n",
              "      <td>711.60</td>\n",
              "      <td>71780</td>\n",
              "      <td>513.48</td>\n",
              "    </tr>\n",
              "    <tr>\n",
              "      <th>3</th>\n",
              "      <td>9/25/2018</td>\n",
              "      <td>725.0</td>\n",
              "      <td>725.00</td>\n",
              "      <td>710.5</td>\n",
              "      <td>715.00</td>\n",
              "      <td>718.15</td>\n",
              "      <td>93181</td>\n",
              "      <td>668.03</td>\n",
              "    </tr>\n",
              "    <tr>\n",
              "      <th>4</th>\n",
              "      <td>9/24/2018</td>\n",
              "      <td>725.3</td>\n",
              "      <td>728.00</td>\n",
              "      <td>712.0</td>\n",
              "      <td>721.00</td>\n",
              "      <td>721.90</td>\n",
              "      <td>126374</td>\n",
              "      <td>911.15</td>\n",
              "    </tr>\n",
              "  </tbody>\n",
              "</table>\n",
              "</div>"
            ],
            "text/plain": [
              "        Date   Open    High  ...   Close  Total Trade Quantity  Turnover (Lacs)\n",
              "0  9/28/2018  707.0  707.95  ...  683.10                131700           910.52\n",
              "1  9/27/2018  716.8  723.50  ...  697.15                156222          1104.25\n",
              "2  9/26/2018  720.0  724.40  ...  711.60                 71780           513.48\n",
              "3  9/25/2018  725.0  725.00  ...  718.15                 93181           668.03\n",
              "4  9/24/2018  725.3  728.00  ...  721.90                126374           911.15\n",
              "\n",
              "[5 rows x 8 columns]"
            ]
          },
          "metadata": {
            "tags": []
          },
          "execution_count": 35
        }
      ]
    },
    {
      "cell_type": "code",
      "metadata": {
        "id": "yJJgSzYI9m-o",
        "colab_type": "code",
        "outputId": "4212a383-12e4-4527-bf28-e3367ff8a363",
        "colab": {
          "base_uri": "https://localhost:8080/",
          "height": 202
        }
      },
      "source": [
        "#sorting by date\n",
        "df['Date'] = pd.to_datetime(df.Date)\n",
        "df.index = df['Date']\n",
        "\n",
        "data= df.sort_index(ascending= True, axis=0)\n",
        "\n",
        "new_data= data[['Date','Close']]\n",
        "\n",
        "new_data.index= range(0,len(new_data))\n",
        "\n",
        "new_data.head()\n"
      ],
      "execution_count": 0,
      "outputs": [
        {
          "output_type": "execute_result",
          "data": {
            "text/html": [
              "<div>\n",
              "<style scoped>\n",
              "    .dataframe tbody tr th:only-of-type {\n",
              "        vertical-align: middle;\n",
              "    }\n",
              "\n",
              "    .dataframe tbody tr th {\n",
              "        vertical-align: top;\n",
              "    }\n",
              "\n",
              "    .dataframe thead th {\n",
              "        text-align: right;\n",
              "    }\n",
              "</style>\n",
              "<table border=\"1\" class=\"dataframe\">\n",
              "  <thead>\n",
              "    <tr style=\"text-align: right;\">\n",
              "      <th></th>\n",
              "      <th>Date</th>\n",
              "      <th>Close</th>\n",
              "    </tr>\n",
              "  </thead>\n",
              "  <tbody>\n",
              "    <tr>\n",
              "      <th>0</th>\n",
              "      <td>2017-02-03</td>\n",
              "      <td>1069.20</td>\n",
              "    </tr>\n",
              "    <tr>\n",
              "      <th>1</th>\n",
              "      <td>2017-02-06</td>\n",
              "      <td>1029.20</td>\n",
              "    </tr>\n",
              "    <tr>\n",
              "      <th>2</th>\n",
              "      <td>2017-02-07</td>\n",
              "      <td>1006.80</td>\n",
              "    </tr>\n",
              "    <tr>\n",
              "      <th>3</th>\n",
              "      <td>2017-02-08</td>\n",
              "      <td>1022.60</td>\n",
              "    </tr>\n",
              "    <tr>\n",
              "      <th>4</th>\n",
              "      <td>2017-02-09</td>\n",
              "      <td>1010.05</td>\n",
              "    </tr>\n",
              "  </tbody>\n",
              "</table>\n",
              "</div>"
            ],
            "text/plain": [
              "        Date    Close\n",
              "0 2017-02-03  1069.20\n",
              "1 2017-02-06  1029.20\n",
              "2 2017-02-07  1006.80\n",
              "3 2017-02-08  1022.60\n",
              "4 2017-02-09  1010.05"
            ]
          },
          "metadata": {
            "tags": []
          },
          "execution_count": 3
        }
      ]
    },
    {
      "cell_type": "code",
      "metadata": {
        "id": "W9aoiXlOFDm_",
        "colab_type": "code",
        "colab": {}
      },
      "source": [
        "# Preparing train and test sets\n",
        "train=new_data[:300]\n",
        "valid= new_data[300:]"
      ],
      "execution_count": 0,
      "outputs": []
    },
    {
      "cell_type": "code",
      "metadata": {
        "id": "o6LWRx6DXqFF",
        "colab_type": "code",
        "colab": {}
      },
      "source": [
        "#only consdering the 'close' values for training and testing\n",
        "\n",
        "dataset= new_data['Close']\n",
        "#converting dataset into x_train and y_train\n",
        "dataset= dataset.values.reshape(-1,1)\n",
        "\n",
        "scaler = MinMaxScaler(feature_range=(0, 1))\n",
        "scaled_data = scaler.fit_transform(dataset)"
      ],
      "execution_count": 0,
      "outputs": []
    },
    {
      "cell_type": "code",
      "metadata": {
        "id": "5LjX-9Z8e1rH",
        "colab_type": "code",
        "colab": {}
      },
      "source": [
        "x_train, y_train = [], []\n",
        "for i in range(60,len(train)):\n",
        "    x_train.append(scaled_data[i-60:i,0])\n",
        "    y_train.append(scaled_data[i,0])\n",
        "x_train, y_train = np.array(x_train), np.array(y_train)\n",
        "\n",
        "# Reshaping x_train because LSTM accepts 3D input \n",
        "\n",
        "x_train = np.reshape(x_train, (x_train.shape[0],x_train.shape[1],1))\n"
      ],
      "execution_count": 0,
      "outputs": []
    },
    {
      "cell_type": "code",
      "metadata": {
        "id": "Rr-dj817foXh",
        "colab_type": "code",
        "outputId": "9d941bd1-fff5-4696-fa58-bad3e1f9db9e",
        "colab": {
          "base_uri": "https://localhost:8080/",
          "height": 1000
        }
      },
      "source": [
        "# create and fit the LSTM network\n",
        "model = Sequential()\n",
        "model.add(LSTM(units=50, return_sequences=True, input_shape=(x_train.shape[1],1)))\n",
        "model.add(LSTM(units=50))\n",
        "model.add(Dense(1))\n",
        "\n",
        "#fititng the LSTM network\n",
        "\n",
        "model.compile(loss='mean_squared_error', optimizer='adam')\n",
        "model.fit(x_train, y_train, epochs=30, batch_size=1, verbose=2)"
      ],
      "execution_count": 0,
      "outputs": [
        {
          "output_type": "stream",
          "text": [
            "Epoch 1/30\n",
            " - 16s - loss: 0.0132\n",
            "Epoch 2/30\n",
            " - 14s - loss: 0.0049\n",
            "Epoch 3/30\n",
            " - 14s - loss: 0.0039\n",
            "Epoch 4/30\n",
            " - 14s - loss: 0.0032\n",
            "Epoch 5/30\n",
            " - 14s - loss: 0.0028\n",
            "Epoch 6/30\n",
            " - 14s - loss: 0.0029\n",
            "Epoch 7/30\n",
            " - 14s - loss: 0.0022\n",
            "Epoch 8/30\n",
            " - 14s - loss: 0.0025\n",
            "Epoch 9/30\n",
            " - 14s - loss: 0.0019\n",
            "Epoch 10/30\n",
            " - 14s - loss: 0.0017\n",
            "Epoch 11/30\n",
            " - 14s - loss: 0.0014\n",
            "Epoch 12/30\n",
            " - 14s - loss: 0.0013\n",
            "Epoch 13/30\n",
            " - 14s - loss: 0.0015\n",
            "Epoch 14/30\n",
            " - 14s - loss: 0.0014\n",
            "Epoch 15/30\n",
            " - 14s - loss: 0.0011\n",
            "Epoch 16/30\n",
            " - 14s - loss: 0.0012\n",
            "Epoch 17/30\n",
            " - 14s - loss: 0.0012\n",
            "Epoch 18/30\n",
            " - 13s - loss: 0.0013\n",
            "Epoch 19/30\n",
            " - 14s - loss: 0.0012\n",
            "Epoch 20/30\n",
            " - 14s - loss: 0.0012\n",
            "Epoch 21/30\n",
            " - 14s - loss: 0.0013\n",
            "Epoch 22/30\n",
            " - 14s - loss: 0.0015\n",
            "Epoch 23/30\n",
            " - 14s - loss: 0.0012\n",
            "Epoch 24/30\n",
            " - 14s - loss: 0.0011\n",
            "Epoch 25/30\n",
            " - 14s - loss: 0.0012\n",
            "Epoch 26/30\n",
            " - 14s - loss: 0.0014\n",
            "Epoch 27/30\n",
            " - 14s - loss: 0.0011\n",
            "Epoch 28/30\n",
            " - 14s - loss: 0.0013\n",
            "Epoch 29/30\n",
            " - 13s - loss: 0.0011\n",
            "Epoch 30/30\n",
            " - 14s - loss: 0.0011\n"
          ],
          "name": "stdout"
        },
        {
          "output_type": "execute_result",
          "data": {
            "text/plain": [
              "<keras.callbacks.History at 0x7facd6cfcbe0>"
            ]
          },
          "metadata": {
            "tags": []
          },
          "execution_count": 23
        }
      ]
    },
    {
      "cell_type": "code",
      "metadata": {
        "id": "qL4FW03BBLeJ",
        "colab_type": "code",
        "colab": {}
      },
      "source": [
        "#predicting test data values, using past 60 from the train data\n",
        "inputs = new_data[len(new_data) - len(valid) - 60:]['Close']\n",
        "inputs = inputs.values.reshape(-1,1)\n",
        "inputs  = scaler.transform(inputs)"
      ],
      "execution_count": 0,
      "outputs": []
    },
    {
      "cell_type": "code",
      "metadata": {
        "id": "zmE9OP28Dovo",
        "colab_type": "code",
        "colab": {}
      },
      "source": [
        "X_test = []\n",
        "for i in range(60,inputs.shape[0]):\n",
        "    X_test.append(inputs[i-60:i,0])\n",
        "X_test = np.array(X_test)"
      ],
      "execution_count": 0,
      "outputs": []
    },
    {
      "cell_type": "code",
      "metadata": {
        "id": "CD5bkf9zDvID",
        "colab_type": "code",
        "colab": {}
      },
      "source": [
        "X_test = np.reshape(X_test, (X_test.shape[0],X_test.shape[1],1))\n",
        "closing_price = model.predict(X_test)\n",
        "closing_price = scaler.inverse_transform(closing_price)"
      ],
      "execution_count": 0,
      "outputs": []
    },
    {
      "cell_type": "code",
      "metadata": {
        "id": "hyaOGcIVTGen",
        "colab_type": "code",
        "colab": {}
      },
      "source": [
        ""
      ],
      "execution_count": 0,
      "outputs": []
    },
    {
      "cell_type": "markdown",
      "metadata": {
        "id": "3TzJX6jBTF07",
        "colab_type": "text"
      },
      "source": [
        ""
      ]
    },
    {
      "cell_type": "code",
      "metadata": {
        "id": "KMe7dugNEcnT",
        "colab_type": "code",
        "outputId": "a973b0be-ba8f-4e45-8336-28427afdea95",
        "colab": {
          "base_uri": "https://localhost:8080/",
          "height": 35
        }
      },
      "source": [
        "#calculate rmse (root mean square error)\n",
        " closing_price = np.reshape(closing_price, (np.product(closing_price.shape),))\n",
        "rms=np.sqrt(((valid['Close']- closing_price) ** 2).mean())\n",
        "rms"
      ],
      "execution_count": 0,
      "outputs": [
        {
          "output_type": "execute_result",
          "data": {
            "text/plain": [
              "11.36621010110603"
            ]
          },
          "metadata": {
            "tags": []
          },
          "execution_count": 36
        }
      ]
    },
    {
      "cell_type": "code",
      "metadata": {
        "id": "DbxLoBo5PAgM",
        "colab_type": "code",
        "outputId": "38f64880-efd7-436a-90d4-3762e3f772e6",
        "colab": {
          "base_uri": "https://localhost:8080/",
          "height": 754
        }
      },
      "source": [
        "#for plotting\n",
        "train = new_data[:300]\n",
        "valid = new_data[300:]\n",
        "valid['Predictions'] = closing_price\n",
        "plt.plot(train['Close'])\n",
        "plt.plot(valid[['Close','Predictions']])\n"
      ],
      "execution_count": 0,
      "outputs": [
        {
          "output_type": "stream",
          "text": [
            "/usr/local/lib/python3.6/dist-packages/ipykernel_launcher.py:3: SettingWithCopyWarning: \n",
            "A value is trying to be set on a copy of a slice from a DataFrame.\n",
            "Try using .loc[row_indexer,col_indexer] = value instead\n",
            "\n",
            "See the caveats in the documentation: http://pandas.pydata.org/pandas-docs/stable/indexing.html#indexing-view-versus-copy\n",
            "  This is separate from the ipykernel package so we can avoid doing imports until\n"
          ],
          "name": "stderr"
        },
        {
          "output_type": "execute_result",
          "data": {
            "text/plain": [
              "[<matplotlib.lines.Line2D at 0x7facd3e6dbe0>,\n",
              " <matplotlib.lines.Line2D at 0x7facd3e6de10>]"
            ]
          },
          "metadata": {
            "tags": []
          },
          "execution_count": 40
        },
        {
          "output_type": "display_data",
          "data": {
            "image/png": "[encoded data removed]",
            "text/plain": [
              "<Figure size 1440x720 with 1 Axes>"
            ]
          },
          "metadata": {
            "tags": []
          }
        }
      ]
    },
    {
      "cell_type": "markdown",
      "metadata": {
        "id": "4qeIpdI4v9aC",
        "colab_type": "text"
      },
      "source": [
        "Result- It can be observed that the predicted stock prices closely follow the actual prices"
      ]
    }
  ]
}